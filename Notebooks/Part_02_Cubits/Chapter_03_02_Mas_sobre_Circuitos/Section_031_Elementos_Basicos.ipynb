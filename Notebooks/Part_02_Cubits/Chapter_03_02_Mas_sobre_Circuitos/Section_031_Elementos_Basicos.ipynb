{
 "cells": [
  {
   "cell_type": "markdown",
   "id": "81fd03cf",
   "metadata": {
    "slideshow": {
     "slide_type": "slide"
    }
   },
   "source": [
    "<figure><right>\n",
    "<img   src=\"../../figuras/logos/Logo_TalentQ_Azul.png\" align=right  width=\"150px\"/>\n",
    "</right></figure>\n",
    "\n",
    "\n",
    "\n",
    "# Computación cuántica universal\n",
    "\n",
    "$ \\newcommand{\\bra}[1]{\\langle #1|} $\n",
    "$ \\newcommand{\\ket}[1]{|#1\\rangle} $\n",
    "$ \\newcommand{\\braket}[2]{\\langle #1|#2\\rangle} $\n",
    "$ \\newcommand{\\i}{{\\color{blue} i}} $ \n",
    "$ \\newcommand{\\Hil}{{\\mathcal H}} $\n",
    "$ \\newcommand{\\Lin}{\\hbox{Lin}} $\n",
    "$ \\newcommand{\\cg}[1]{{\\rm C}#1} $\n",
    "$ \\newcommand{\\boldn}{{\\bf n}} $\n",
    "$ \\newcommand{\\bn}{{\\bf n}} $\n",
    "$ \\newcommand{\\boldsig}{\\boldsymbol{\\sigma}} $\n",
    "$ \\newcommand{\\bsig}{\\boldsymbol{\\sigma}} $\n"
   ]
  },
  {
   "cell_type": "code",
   "execution_count": 3,
   "id": "0abf8d27",
   "metadata": {
    "slideshow": {
     "slide_type": "slide"
    },
    "tags": [
     "hide-input"
    ]
   },
   "outputs": [],
   "source": [
    "%run ../../macro_tQ.py\n",
    "import sys\n",
    "sys.path.append('../../')\n",
    "import macro_tQ as tQ\n",
    "\n",
    "import numpy as np\n",
    "import scipy.linalg as la\n",
    "from IPython.display import display,Markdown,Latex\n",
    "import matplotlib.pyplot as plt\n",
    "from qiskit.visualization import array_to_latex"
   ]
  },
  {
   "cell_type": "markdown",
   "id": "04dfb069",
   "metadata": {},
   "source": [
    "\n",
    "En este capítulo vamos a detenernos en algunos *recursos en programación cuántica* que serán de uso muy frecuente. \n"
   ]
  },
  {
   "cell_type": "markdown",
   "id": "4c2b6d5c",
   "metadata": {
    "slideshow": {
     "slide_type": "slide"
    }
   },
   "source": [
    "## Circuitos Equivalentes\n",
    "\n",
    "Los circuitos son una representación gráfica de la descomposición de un cierto operador unitarios en un producto de puertas locales y de dos o más cúbits. Esta descomposición no es única, lo cuál permite compilar un circuito de forma que se elija la descomposición más ventajosa. Vamos a ver algunas equivalencias que permiten, en ocasiones reducir la profundidad de un circuito, y en otras, entender mejor el funcionamiento del circuito.\n",
    "\n",
    "\n",
    "###  Conjugación\n",
    "\n",
    "Cualquier operador, $O$, formado por productos de operadores del conjunto $C = \\{X,Y,Z,H,S\\}$ conjuga lo operadores de Pauli $P = \\{ X,Y,Z\\}$ entre sí\n",
    "\n",
    "$$\n",
    "CP C^\\dagger = P'\n",
    "$$\n",
    "\n",
    "Por ejemplo\n",
    "\n",
    "$$\n",
    "H Z H = X~~~~~,~~~~~H X H = Z ~~~~~,~~~~~ S X S^\\dagger =  Y ~~~~~~ , ~~~~~ S Y S^\\dagger =  -X~~...\n",
    "$$\n",
    "\n",
    "<br>\n",
    "\n",
    "Operando se pueden verificar fácilmente esta igualdades, que implican la equivalencia de circuitos como el siguiente\n",
    "<br>\n",
    "<br>\n",
    "\n",
    "<figure><center>\n",
    "<img src=\"images/H_conjugation.png\" align=center width='450px'/>\n",
    "<center></center>\n",
    "</center></figure>\n",
    "<br>\n",
    "\n",
    "\n",
    "Las conjugaciones anteriores se extienden a rotaciones de ángulos arbitrarios. Por ejemplo:\n",
    "\n",
    "\\begin{eqnarray*}\n",
    "H R_z(\\theta) H &=& e^{-i \\theta/2 HZH} =  e^{-i (\\theta/2) X} \\\\ \\rule{0mm}{8mm}\n",
    "&=& R_x(\\theta)\n",
    "\\end{eqnarray*}\n",
    "\n",
    "<br>\n",
    "<figure>\n",
    "<img src=\"images/HRzHconjugation.png\" align=center width='700px'/>\n",
    "<center></center>\n",
    "</figure>\n",
    "<br>\n",
    "\n",
    "\n"
   ]
  },
  {
   "cell_type": "markdown",
   "id": "bf676c9a",
   "metadata": {
    "slideshow": {
     "slide_type": "slide"
    }
   },
   "source": [
    "### Circuitos con controles\n",
    "\n",
    "La puerta  controlada $\\cg{Z} =  {\\rm diag}(1,1,1,-1)$   es simétrica ya que lo único que hace es cambiar de signo al estado $\\ket{11}$. Es decir\n",
    "\n",
    "<br>\n",
    "\n",
    "<figure><center>\n",
    "<img src=\"images/Equiv_Z.png\" align=center width='300px'/>\n",
    "<center></center>\n",
    "</center></figure>\n",
    "\n",
    "<br>\n",
    "\n",
    "En realidad, $\\cg{Z}$ es un caso particular de   $\\cg{P(\\phi)} = {\\rm diag} (1,1,1, e^{i\\phi})$, para la cual la equivalencia es la misma. \n"
   ]
  },
  {
   "cell_type": "markdown",
   "id": "e9111a65",
   "metadata": {
    "slideshow": {
     "slide_type": "fragment"
    }
   },
   "source": [
    "Una equivalencia importante es\n",
    "\n",
    "<br>\n",
    "<figure><center>\n",
    "<img src=\"images/Equiv_HH.png\" align=center width='400px'/>\n",
    "<center></center>\n",
    "</center></figure>\n",
    "<br>\n",
    "\n",
    "Para probar esta identidad  observemos que las tres puertas del segundo cúbit se pueden componer para dar $HXH=Z$. Por el contrario, las dos puertas de Hadamard en el primer cúbit no se pueden multiplicar al haber un control entre ellas. \n",
    "Sin embargo, usando la  equivalencia anterior podemos invertir la puerta $\\cg{Z}$ y, finalmente, conjugar en el primer cúbit $HZH=X$.\n",
    "\n"
   ]
  },
  {
   "cell_type": "markdown",
   "id": "1701028f",
   "metadata": {
    "slideshow": {
     "slide_type": "slide"
    }
   },
   "source": [
    "\n",
    "Otra  equivalencia nada intuitiva pero muy importante relaciona tres operaciones CNOT con la permutación U$_{\\rm SWAP}$\n",
    "\n",
    "\n",
    "<br>\n",
    "<figure><center>\n",
    "<img src=\"images/Equiv_CNOTs.png\" align=center width='400px'/>\n",
    "<center></center>\n",
    "</center></figure>\n",
    "<br>\n",
    "\n",
    "No hay una forma sencilla de probar esta identidad, así que lo recomendable es escribir las matrices asociadas a cada miembro y comprobar que son iguales. \n",
    "\n",
    "Esta identidad es tan importante que, de hecho es la forma en la que simplementa el operador U$_{\\rm SWAP}$ en un ordenador cuántico. \n"
   ]
  },
  {
   "cell_type": "markdown",
   "id": "0a9d7b51",
   "metadata": {
    "slideshow": {
     "slide_type": "fragment"
    }
   },
   "source": [
    " \n",
    "\n",
    "La puerta de phase global controlada, $\\cg{K_\\phi} = {\\rm diag} (1,1,e^{i\\phi}, e^{i\\phi})$, secretamente, no es una puerta controlada\n",
    "\n",
    "\n",
    "<br>\n",
    "<figure><center>\n",
    "<img src=\"images/Equiv_Kphase.png\" align=center width='330px'/>\n",
    "<center></center>\n",
    "</center></figure>\n",
    "<br>\n"
   ]
  },
  {
   "cell_type": "markdown",
   "id": "2c803792",
   "metadata": {},
   "source": [
    "Hay que tener cuidado a la hora de pasar operadores de Pauli por encima de un control\n",
    "Es sencillo comprobar que el resultado de los dos circuitos siguientes es el mismo, por tanto son equivalentes. \n",
    "\n",
    "<br>\n",
    "<figure><center>\n",
    "<img src=\"images/control_conj_Z.png\" align=center width='400px'/>\n",
    "<center></center>\n",
    "</center></figure>\n",
    "<br>\n",
    "\n",
    "En cambio, la conjugación por $X$ o por $Y$ cambia el cúbit de control de $\\ket{1}$ a $\\ket{0}$, lo cual se representa con un botón vacío\n",
    "\n",
    "\n",
    "<br>\n",
    "<figure><center>\n",
    "<img src=\"images/control_conj_XY.png\" align=center width='700px'/>\n",
    "<center></center>\n",
    "</center></figure>\n",
    "<br>\n",
    "\n",
    "\n"
   ]
  },
  {
   "cell_type": "markdown",
   "id": "327656e6",
   "metadata": {},
   "source": []
  },
  {
   "cell_type": "markdown",
   "id": "e51392aa",
   "metadata": {
    "slideshow": {
     "slide_type": "slide"
    }
   },
   "source": [
    "Podemos verificar la veracidad de las anteriores identidades programando los circuitos de ambos miembros"
   ]
  },
  {
   "cell_type": "code",
   "execution_count": 1,
   "id": "0cb0d6ba",
   "metadata": {},
   "outputs": [
    {
     "name": "stdout",
     "output_type": "stream",
     "text": [
      "          ┌───┐     \n",
      "q_0: ──■──┤ X ├──■──\n",
      "     ┌─┴─┐└─┬─┘┌─┴─┐\n",
      "q_1: ┤ X ├──■──┤ X ├\n",
      "     └───┘     └───┘\n",
      "        \n",
      "q_0: ─X─\n",
      "      │ \n",
      "q_1: ─X─\n",
      "        \n"
     ]
    }
   ],
   "source": [
    "from qiskit import QuantumCircuit\n",
    "from qiskit_aer import UnitarySimulator\n",
    "\n",
    "U_simulator = UnitarySimulator\n",
    "\n",
    "qc_left= QuantumCircuit(2)\n",
    "qc_right= QuantumCircuit(2)\n",
    "\n",
    "qc_left.cx(0,1)\n",
    "qc_left.cx(1,0)\n",
    "qc_left.cx(0,1)\n",
    "qc_right.swap(1,0)\n",
    " \n",
    "print(qc_left)\n",
    "print(qc_right)\n",
    "\n",
    "U_left = U_simulator().run(qc_left).result().get_unitary()\n",
    "U_right = U_simulator().run(qc_right).result().get_unitary()"
   ]
  },
  {
   "cell_type": "markdown",
   "id": "ca304275",
   "metadata": {
    "slideshow": {
     "slide_type": "fragment"
    }
   },
   "source": [
    "comprobemos que las matrices que representan los circuitos coinciden"
   ]
  },
  {
   "cell_type": "code",
   "execution_count": 11,
   "id": "74aab711",
   "metadata": {
    "slideshow": {
     "slide_type": "fragment"
    }
   },
   "outputs": [
    {
     "data": {
      "text/latex": [
       "$$\n",
       " U_{left} = \n",
       "\\begin{bmatrix}\n",
       "1 & 0 & 0 & 0  \\\\\n",
       " 0 & 0 & 1 & 0  \\\\\n",
       " 0 & 1 & 0 & 0  \\\\\n",
       " 0 & 0 & 0 & 1  \\\\\n",
       " \\end{bmatrix}\n",
       "$$"
      ],
      "text/plain": [
       "<IPython.core.display.Latex object>"
      ]
     },
     "metadata": {},
     "output_type": "display_data"
    },
    {
     "data": {
      "text/latex": [
       "$$\n",
       " U_{right} = \n",
       "\\begin{bmatrix}\n",
       "1 & 0 & 0 & 0  \\\\\n",
       " 0 & 0 & 1 & 0  \\\\\n",
       " 0 & 1 & 0 & 0  \\\\\n",
       " 0 & 0 & 0 & 1  \\\\\n",
       " \\end{bmatrix}\n",
       "$$"
      ],
      "text/plain": [
       "<IPython.core.display.Latex object>"
      ]
     },
     "metadata": {},
     "output_type": "display_data"
    }
   ],
   "source": [
    "from qiskit.visualization import array_to_latex\n",
    "display(array_to_latex(U_left, prefix=' U_{left} = '))\n",
    "display(array_to_latex(U_right, prefix=' U_{right} = '))"
   ]
  },
  {
   "cell_type": "markdown",
   "id": "d84307f8",
   "metadata": {},
   "source": [
    "### Medidas y controles\n",
    "\n",
    "En muchas instancias el resultado de una medida se utiliza para efectuar una operación condicionada sobre un cierto cúbit. Es el caso de la teleportación o la codificación superdensa. \n",
    "\n",
    "En estos casos hay una equivalencia de circuitos que responde al siguiente principio\n",
    "\n",
    "<div class=\"alert alert-block alert-info\">\n",
    "<p style=\"text-align: center;\"> <p style=\"text-align: left ;color: navy;\">  \n",
    "<b>Teorema:</b> <i>Principio de la medida diferida</i>\n",
    "<br>    \n",
    "Las medidas pueden siempre moverse de un lugar intermedio en un circuito, al final del mismo. Si los resultados de las medidas se usan para operaciones controladas clásicamente, estas pueden remplazarse por operadores condicionados cuánticamente \n",
    "<br>\n",
    "<br>     \n",
    "</p></div>\n",
    "\n",
    "La siguiente imagen ilustra la equivalencia de circuitos a que se refiere el teorema anterior.\n",
    "\n",
    "<br>\n",
    "<figure><center>\n",
    "<img src=\"images/deferred_meas.png\" align=center width='500px'/>\n",
    "<center></center>\n",
    "</center></figure>\n",
    "<br>\n",
    "\n",
    "La segunda figura es sólo notación en la que directamente un aparato de medida controla un operador. \n",
    "\n",
    "<div class=\"alert alert-block alert-success\">\n",
    "<b>Ejercicio:</b> \n",
    "<br> demuestra la equivalencia de los circuitos anteriores.  \n",
    "</div>    "
   ]
  },
  {
   "cell_type": "markdown",
   "id": "0580e1b4",
   "metadata": {},
   "source": [
    "### Reinicialización a cero\n",
    "\n",
    "\n",
    "La las medidas intermedias sirven para poder efectuar operaciones controladas por un bit clásico. Veremos una utilización de este recurso cuando estudiemos la teleportación. Aquí vamos a ver cómo podemos utilizar dicha medida para reinicializar un cúbit al estado de partida $\\ket{0}$.\n",
    "\n",
    "En el siguiente circuto, $\\ket{\\psi} = a\\ket{0} + b\\ket{1}$ puede colapsar en el aparato de medida a $\\ket{0}$ ó a \n",
    "$\\ket{1}$. En ambos casos, la salida del circuitos será el estado $\\ket{0}$\n",
    "\n",
    "<br>\n",
    "<figure><center>\n",
    "<img src=\"images/reset.png\" align=center width='230px'/>\n",
    "<center></center>\n",
    "</center></figure>\n",
    "<br>"
   ]
  },
  {
   "cell_type": "markdown",
   "id": "988829b2",
   "metadata": {
    "slideshow": {
     "slide_type": "slide"
    }
   },
   "source": [
    "## Retroceso de Fase\n",
    "\n",
    " Hemos estudiado ya el operador controlado $\\cg{U}$. Es un error frecuente pensar que el cúbit controlador no se modifica. Un caso importante ocurre cuando el operador $U$ actúa sobre uno de sus autoestados \n",
    "(recuerda que los autovalores de  un operador unitario son fases puras)\n",
    "\n",
    "<br>\n",
    "$$\n",
    "U\\ket{u} = e^{i\\lambda} \\ket{u}\n",
    "$$\n",
    "<br>\n",
    "\n",
    " Supongamos que por el *cúbit controlador* circula una superposición $(a\\ket{0}+b\\ket{1})$ y un autoestado $\\ket{u}$ de $U$ por el cúbit controlado. La acción de $\\cg{U}$ es\n",
    "<br>\n",
    "<br>\n",
    "\n",
    "$$\n",
    "\\cg{U}: (a\\ket{0} + b\\ket{1})\\otimes \\ket{u} ~\\to ~ a\\ket{0}\\ket{u} + b \\ket{1}e^{i\\lambda}\\ket{u}  = \\left( a\\ket{0}\\ket{u} + be^{i\\lambda} \\ket{1} \\rule{0mm}{4mm} \\right)\\otimes \\ket{u}\n",
    "$$\n",
    "<br>\n",
    "\n",
    "\n",
    " En resultado final es que la fase $e^{i\\lambda}$ ha **modificado** el estado de entrada, mientras que el segundo cúbit no ha cambiado. \n",
    "\n",
    "El punto es que, en el segundo paso, la fase generada por la acción de U *no pertenece* realmente a ninguno de los dos espacios sino al producto. De modo que puede adscribirse al primer espacio, como hemos hecho en el último paso. \n",
    "De ahí el nombre de *retroceso de fase*, en inglés \"phase kickback\". \n",
    "\n",
    "El siguiente circuito resume la acción de retroceso de fase\n",
    "\n",
    "<br>\n",
    "<figure>\n",
    "<img src=\"images/phase_kickback.png\" align=center width='300px'/>\n",
    "<center></center>\n",
    "</figure>\n",
    "<br>\n"
   ]
  },
  {
   "cell_type": "markdown",
   "id": "c3bded23",
   "metadata": {},
   "source": [
    "<div class=\"alert alert-block alert-success\">\n",
    "\n",
    "<b>Ejercicio</b> \n",
    "    \n",
    "Programa un circuito en el que  $U = P(\\phi)$ sea el operador de fase y el estado en el primer cúbit es $\\ket{0}$ y en el segundo es $\\ket{1}$. \n",
    "    \n",
    "    \n",
    "- Usando el *statevector_simulator* representa el estado de salida para distintos de valores de $\\phi\\in [0,2\\pi]$ \n",
    "    \n",
    "- ¿en qué plano rota el vector del primer cúbit? ¿Cómo podemos cambiar dicho plano de rotación?\n",
    "</div>\n"
   ]
  },
  {
   "cell_type": "markdown",
   "id": "cf7275b2",
   "metadata": {},
   "source": [
    "Un caso muy frecuente ocurre cuando $U = X$, es decir $\\cg{U} = \\hbox{CNOT}$. Los autovalores de $X$ son los que forman la base $\\ket{\\pm}$. En el caso de $\\ket{-}$ tendremos\n",
    "que la fase es $e^{i\\pi} = -1$\n",
    "\n",
    "$$\n",
    "X \\ket{-} = (-1) \\ket{-}\n",
    "$$\n",
    "\n",
    "\n",
    "\n",
    "$$\n",
    "\\cg{X} \\big( \\ket{x}\\otimes \\ket{-}\\big) ~=~ \\ket{x} X^x\\ket{-} =  (-1)^x \\ket{x} \\otimes \\ket{-}\n",
    "$$\n",
    "\n",
    "El retroceso de fase consigue de esta manera imprimir el valor del cúbit de control en una fase. "
   ]
  },
  {
   "cell_type": "markdown",
   "id": "4747aaec",
   "metadata": {
    "slideshow": {
     "slide_type": "slide"
    }
   },
   "source": [
    "## Computación Cuántica Universal\n",
    "\n",
    "### Teorema de descomposición\n",
    "\n",
    "En el paradigma de computador cuántico de Deutsch, el objetivo es ser capaz de implementar el operador unitario más general\n",
    "\n",
    "$$\n",
    "U  = \\sum_x \\ket{f(x)}\\bra{x}\n",
    "$$\n",
    "donde $f: x \\to f(x)$ es una función arbitraria invertible. El reto tecnológico es que sólamente seamos capaces de implementar puertas simples de uno y dos cúbits. El siguiente teorema es un primer paso en esa dirección."
   ]
  },
  {
   "cell_type": "markdown",
   "id": "076c2574",
   "metadata": {
    "slideshow": {
     "slide_type": "fragment"
    }
   },
   "source": [
    "<div class=\"alert alert-block alert-info\">\n",
    "<p style=\"text-align: center;\"> <p style=\"text-align: left ;color: navy;\">  \n",
    "<b>Teorema</b> <i>(Barenco et. al. 1995):</i> \n",
    "<br>\n",
    "Cualquier operador unitario $U_n$ sobre $n$ cúbits puede expresarse como el producto de  \n",
    "<br>\n",
    "<br>\n",
    "$~~~$-  rotaciones arbitrarias  de <i>un cubit</i> \n",
    "<br>  \n",
    "$~~~$-  puertas CNOT.\n",
    "</p></div>"
   ]
  },
  {
   "cell_type": "markdown",
   "id": "7515e3ef",
   "metadata": {
    "slideshow": {
     "slide_type": "fragment"
    }
   },
   "source": [
    "Un ejemplo de este teorema ya lo hemos visto en la descomposición de la puerta $U_{SWAP}$ como producto de tres $\\hbox{CNOT}$.\n",
    "\n",
    "Otro caso lo observamos en  la siguiente  equivalencia de circuitos para la puerta controlada $U = \\cg{P_\\phi}$\n",
    "\n",
    "\n",
    "<br>\n",
    "<figure><center>\n",
    "<img src=\"images/Equiv_Phase.png\" align=center width='600px'/>\n",
    "<center></center>\n",
    "</center></figure>\n",
    "<br>\n",
    "\n"
   ]
  },
  {
   "cell_type": "markdown",
   "id": "05c75bfb",
   "metadata": {
    "slideshow": {
     "slide_type": "fragment"
    }
   },
   "source": [
    "<div class=\"alert alert-block alert-success\">\n",
    "    <b>Ejercicio</b> \n",
    " \n",
    "    \n",
    "Comprueba la equivalencia de los dos circuitos siguientes, siempre que se verifique que $V^2 = U$\n",
    "\n",
    "\n",
    "<br>\n",
    "<figure><center>\n",
    "<img src=\"images/CCUdecomposition.png\" align=center width='450px'/>\n",
    "<center></center>\n",
    "</center></figure>\n",
    "<br>\n",
    "    \n",
    "    \n",
    "</div>\n"
   ]
  },
  {
   "cell_type": "markdown",
   "id": "5a81eb10",
   "metadata": {
    "slideshow": {
     "slide_type": "slide"
    }
   },
   "source": [
    "No vamos a probar rigurosamente el teorema anterior, pero sí señalar los pasos más importantes, que son 4:\n",
    "\n",
    "1.  cualquier operador $U_n$ sobre $n$ cúbits se puede descomponer como *producto de operadores* $\\cg{^kU}$ controlados por $k$ cúbits\n",
    "\n",
    "2. los operadores $\\hbox{C}^kU$ se pueden descomponer como productos de un  operador $\\cg{U}$ y puertas de Toffoli CCNOT\n",
    "\n",
    "$\\rule{7mm}{0mm}$En general para $\\cg{^kU}$ necesitamos $k-1$ ancillas\n",
    "\n",
    "\n",
    "<br>\n",
    "<figure><center>\n",
    "<a id='fig_ref'></a>\n",
    "<img src=\"images/CkUdecomposition.png\" align=center width='400px'/>\n",
    "<center></center>\n",
    "</center></figure>\n",
    "<br>\n",
    "\n",
    "<a id=\"Toffolidecomposition\"></a>\n",
    "\n",
    "3. Las puertas de Toffoli puede descomponerse como productos de $H$, $\\cg{X}$ y $\\cg{S}$\n",
    "\n",
    "\n",
    "<br>\n",
    "<figure><center>\n",
    "<img src=\"images/Toffolidecomposition.png\" align=center width='450px'/>\n",
    "<center></center>\n",
    "</center></figure>\n",
    "<br>\n",
    "\n",
    "\n",
    "$\\rule{7mm}{0mm}$Este no es más que el caso particular  de la descomposición general de $\\cg{^2U}$ usando $U = X = HZH=HSSH =  (HSH)(HSH)= V^2 ~~\\Rightarrow ~~V = HSH$.\n",
    "\n",
    "<a id=\"CUdecomposition\"></a>\n",
    "4. Una puerta $\\cg{U}$ puede descomponerse de forma única usando tres rotaciones $A, B$ y $C$ que verifiquen\n",
    "\n",
    "$$\n",
    "ABC = I ~~~~~,~~~~ e^{i\\delta}  AXBXC = U\n",
    "$$\n",
    "\n",
    "<br>\n",
    "<figure><center>\n",
    "<img src=\"images/CUdecomposition.png\" align=center width='600px'/>\n",
    "<center></center>\n",
    "</center></figure>\n",
    "<br>\n",
    "\n",
    "$\\rule{7mm}{0mm}$En efecto, si el cúbit de control es $\\ket{0}$ la fase $P(\\delta)$ no le afecta y el operador efectivo en el segundo cúbit es $ABC= I$.\n",
    "\n",
    "$\\rule{7mm}{0mm}$Por el contrario, si el primer cúbits es $\\ket{1}$, entonces se aplica $AXBXC$ al segundo cúbit, y \n",
    "el operador $P(\\delta)$ añade la fase global, que al ser global podemos pasársela al segundo cúbit, lo que hace $e^{i\\delta} AXBXC = U$\n",
    "\n",
    "<details><summary><p style=\"color:blue\" > >> <i>Detalles</i> </p></summary>\n",
    "\n",
    "Las dos condiciones  algebráicas admiten una solución única para un operador unitario genérico\n",
    "   \n",
    "$$\n",
    "U = e^{i\\delta}\\begin{bmatrix}\\displaystyle e^{-i(\\alpha+\\beta)/2}\\cos\\frac{\\theta}{2} & \\displaystyle - e^{i(-\\alpha+\\beta)/2}\\sin\\frac{\\theta}{2}  \\\\  \n",
    "\\rule{0mm}{5mm}\n",
    "\\displaystyle   e^{i(\\alpha-\\beta)/2}\\sin\\frac{\\theta}{2}  &\\displaystyle e^{i(\\alpha+\\beta)/2}\\cos\\frac{\\theta}{2}\n",
    "\\end{bmatrix} = e^{i\\delta} AXBXC ~  \\Longrightarrow ~\n",
    "\\left\\{ \\begin{array}{l} A = R_z(\\alpha) R_y\\left(\\frac{\\theta}{2}\\right) \\\\ B = R_y\\left(-\\frac{\\theta}{2}\\right) R_z\\left(-\\frac{\\alpha + \\beta}{2}\\right) \\\\\n",
    "C = R_z\\left( \\frac{\\beta-\\alpha}{2}\\right)\\end{array}\n",
    "\\right.\n",
    "$$\n",
    "\n",
    "<i> Nota: </i>: $U\\in U(2)$  es un operador unitario y  su determinante es una fase $\\det U = e^{i\\delta}$.     Por su parte $\\det(AXBXC) = 1$, y por tanto es un elemento de $SU(2)$.  Por esta razón es necesario añadir la fase $e^{i\\delta}$ para obtener un operador unitario general. \n",
    "    \n",
    "    \n",
    "</details>    \n",
    "\n"
   ]
  },
  {
   "cell_type": "markdown",
   "id": "52d6442b",
   "metadata": {
    "slideshow": {
     "slide_type": "slide"
    }
   },
   "source": [
    "### Computación cuántica digital\n",
    "\n",
    "\n",
    " La descomposición del teorema de Barenco es  una identidad exacta que permite descomponer un conjunto infinito y continuo de operadores $U_n$ en puertas CNOT y puertas *continuas* $U$. Hasta este punto, estaríamos hablando de un tipo de computación *analógica* puesto que las puertas de 1 cúbit han de ser rotaciones de ángulos reales arbitrarios. \n",
    "\n",
    "Sin embargo hay dos aspectos que aconsejan usar, en lugar de puertas continuas, un *conjunto discreto de puertas*\n",
    "\n",
    "1.  El control de la precisión. Si dichas puertas no tuviesen error, entonces el error estaría en la truncación de los registros, igual que ocurre en computación clásica digital\n",
    "\n",
    "2. La computación cuántica *resistentes a errores (\"fault tolerant\")* demanda la discretización del proceso de computación. En el fondo consiste en detectar un *mal funcionamiento* de una puerta discreta $X, Y$ ó $Z$ y coregirlo antes de que se propague. \n",
    "\n",
    "Dependiendo de la plataforma utilizada para construir un ordenador cuántico, existen uno o varios *conjuntos discretos de puertas universales* nativas susceptibles de ser programadas de manera resistente a errores \n",
    "\n",
    "Es importante relacionar las puertas universales con *puertas nativas*. Por ejemplo, \n",
    "en circuitos superconductores tenemos varias opciones\n",
    "\n",
    "\\begin{eqnarray}\n",
    "\\hbox{base de Shor}~~\n",
    " ~&:& ~~ \\{ H, T, \\hbox{CNOT}\\}  \\nonumber \\\\ \\rule{0mm}{5mm}\n",
    "\\hbox{NCT}~ ~&:& ~~ \\{ X,\\hbox{CNOT}, \\hbox{Toffoli}\\}   \\nonumber\n",
    "\\end{eqnarray}\n",
    "\n",
    "\n",
    "En ordenadores de iones atrapados hay las siguientes [puertas nativas](https://ionq.com/docs/getting-started-with-native-gates#introducing-the-native-gates)\n",
    "\n",
    "$$\n",
    "\\{ \\hbox{GPi},\\hbox{Virtual}Z, \\hbox{MS}\\} \n",
    "$$\n",
    "\n",
    "<br>\n",
    "<br>\n",
    "donde \n",
    "$$\n",
    "\\hbox{GPi} = \\begin{bmatrix} 0 & e^{-i\\phi} \\\\e^{i\\phi} & 0 \\end{bmatrix}~~~,~~~\n",
    "\\hbox{Virtual}Z = \\begin{bmatrix} e^{-i\\phi} & 0 \\\\ 0 & e^{i\\phi} \\end{bmatrix} ~~,~~~~\n",
    "$$\n",
    "\n",
    "y la puerta de Mølmer-Sørensen\n",
    "\n",
    "$$\n",
    "MS(\\phi_1,\\phi_2) = \\frac{1}{\\sqrt{2}}\n",
    "\\begin{bmatrix}\n",
    "1 & 0 & 0 & e^{-i(\\phi_1+\\phi_2)} \\\\ 0 & 1 &-i e^{-i(\\phi_1-\\phi_2)} & 0 \\\\ 0 & -i e^{i(\\phi_1-\\phi_2)} & 1 & 0  \\\\ \n",
    "-ie^{i(\\phi_1+\\phi_2)} & 0 & 0 & 1 \n",
    "\\end{bmatrix}\n",
    "$$\n",
    "\n",
    "#### Teorema de Solovay Kitaev\n",
    "\n",
    "Ya sabemos que un ordenador cuántico consigue una ganancia en memoria de trabajo exponencial de forma nativa: $n~ \\hbox{cúbits} \\to 2^n ~\\hbox{registros}$.\n",
    "Podría pasar que esta ganancia exponencial se viese compensada por un crecimiento exponencial en la profundidad del circuito. Entonces nos encontraríamos de nuevo con una barrera infranqueable para atacar problemas complejos.\n",
    "\n",
    "\n",
    "El siguiente teorema pone las cosas en orden. Afirma que, por lo que respecta a la precisión de cálculo, la profundidad del circuito crece de forma logaritmica\n",
    "\n",
    "\n",
    "<div class=\"alert alert-block alert-info\">\n",
    "<p style=\"text-align: center;\"> <p style=\"text-align: left ;color: navy;\">  \n",
    "<b>Teorema</b> <i>(Solovay Kitaev et. al. 1995)</i>   \n",
    "<br>    \n",
    "Una puerta simple $U$ arbitraria puede ser aproximada con precisión $\\epsilon$ usando una secuencia de puertas discretas \n",
    "$R$ en el siguiente sentido de proximidad\n",
    "<br>\n",
    "<br>\n",
    "$$\n",
    "\\hbox{max}_{\\ket{\\psi}\\in \\Hil} \\, \\| (U - R)\\ket{\\psi} \\|<\\epsilon\n",
    "$$\n",
    "<br>    \n",
    "donde la secuencia aproximante $R$ involucra   $\\leq {\\cal O}(\\log^2(1/\\epsilon))$ puertas de un conjunto discreto universal, \n",
    "</p></div>\n",
    "\n",
    "Referencia: M.A. Nielsen y L.I. Chuang *Quantum Computation and Quantum Information*, pág. 197.\n"
   ]
  },
  {
   "cell_type": "markdown",
   "id": "41ed7b4f",
   "metadata": {},
   "source": [
    "### Circuitos de Clifford\n",
    "\n",
    "\n",
    "Observemos la base de Shor $\\{H,T,\\cg{X}\\}$. Recordemos que $T^2 = S$ es una rotación de $\\pi/4$ en torno al eje $Z$. ¿Qué pasaría si consideramos  la base $\\{H,S,\\cg{X}\\}$? Aparentemente poco. Sin embargo estos operadores tiene una propiedad importante que los caracteriza.\n",
    "\n",
    "<div class=\"alert alert-block alert-info\">\n",
    "<p style=\"text-align: center;\"> <p style=\"text-align: left ;color: navy;\">  \n",
    "<b>Definición:</b> <i>Operador de Clifford</i>\n",
    "<br>    \n",
    "Se define un operador de Clifford $C\\in \\Lin(\\Hil^{\\otimes n}) $, como aquel que conjuga una cadena  de Pauli $P $ para dar otra cadena  de Pauli $P'$\n",
    "<br>\n",
    "<br>     \n",
    "$$\n",
    "C P C^{\\dagger} = P'\n",
    "$$\n",
    "</p></div>\n",
    "\n",
    "Por ejemplo, sea $P = YZX$,\n",
    "\n",
    "\\begin{eqnarray*}\n",
    "(SXH) \\, (YZX) \\,  (SXH)^\\dagger &=& (S\\otimes X\\otimes H) \\cdot Y\\otimes Z\\otimes X \\cdot (S^\\dagger \\otimes X\\otimes H) \\\\ \\rule{0mm}{10mm} \n",
    "&=& SYS^\\dagger \\otimes  XZX \\otimes HXH \\\\ \\rule{0mm}{10mm}\n",
    "&=& (-Z)\\otimes (-Z) \\otimes Z \\\\ \\rule{0mm}{10mm} &=& ZZZ\n",
    "\\end{eqnarray*}\n",
    "\n",
    "es decir $P' = ZZZ$. En este caso, $C$ es un operador de Clifford porque está compuesto de un producto tensorial de operadores de Clifford de un cúbit. \n",
    " Los propios operadores de Pauli son operadores de Clifford.  La conjugación correspondiente simplemente refleja el operador de Pauli. Por ejemplo, con $C=Z$\n",
    "\n",
    "$$\n",
    "ZXZ = -X~~~~~~~~~ZYZ = -Y ~~~~~~~~~ZZZ = Z \n",
    "$$\n",
    "también $H$ y $S$ son de Clifford \n",
    "\n",
    "$$\n",
    "H Z H = X~~~~~,~~~~~H X H = Z ~~~~~,~~~~~ S X S^\\dagger =  Y ~~~~~~ , ~~~~~ S Y S^\\dagger =  -X~~...\n",
    "$$\n",
    "\n",
    " Muy importante: si $A$ y $B$ son operadores de Clifford, su producto $C = AB$ también lo es. Efectivamente   \n",
    "\n",
    "$$\n",
    "C P C^\\dagger = AB P B^\\dagger A^\\dagger = A P' A^\\dagger = P''\n",
    "$$\n",
    "\n",
    "Esto quiere decir que deberíamos poder generar todos los operadores de Clifford a partir de una base. De un cúbit es fácil ver que $\\{ S,H \\}$ son una tal base \n",
    "\n",
    "$$\n",
    "Z  = S^2~~~~,~~~~X = H Z H = H S^2 H ~~~~,~~~~~  Y = SXS^\\dagger  = SHS^2 HS^\\dagger \n",
    "$$\n",
    "\n",
    "Sin embargo, en el caso de cadenas de Pauli, hay un nuevo generador de operadores de Clifford: el operador $\\cg{X}$. Efectivamente, por ejemplo sobre la cadena de Pauli $X I $\n",
    "\n",
    "$$\n",
    "\\cg{X} \\, (X\\otimes I)\\,  \\cg{X} = X \\otimes X\n",
    "$$\n",
    "\n",
    "Vemos que esta conjugación de Clifford *copia* el operador $X$ en el segundo cúbit. Podemos  demostrar gráficamente esta identidad \n",
    "\n",
    "<br>\n",
    "<figure><center>\n",
    "<img src=\"images/clone_X.png\" align=center width='700px'/>\n",
    "<center></center>\n",
    "</center></figure>\n",
    "<br>\n",
    "\n",
    "<div class=\"alert alert-block alert-success\">\n",
    "<b>Ejercicio</b> \n",
    "demuestra las siguientes identidades entre circuitos\n",
    "<br>\n",
    "<br>\n",
    "  \n",
    "$$   \n",
    "\\begin{array}{lcl}\n",
    "\\cg{X}(Y\\otimes I)\\cg{X} = Y\\otimes X ~~~~~ &&   \\cg{X}(Z\\otimes I)\\cg{X} = Z\\otimes I  \\\\\n",
    "\\cg{X}(I\\otimes X)\\cg{X} = I\\otimes X ~~~~~ &&   \\cg{X}(I\\otimes Y)\\cg{X} = Z\\otimes Y  \\\\\n",
    "\\cg{X}(I\\otimes Z)\\cg{X} = Z\\otimes Z ~~~~~ && \\\\\n",
    "(R_z(\\theta)\\otimes I ) \\cg{X} = \\cg{X} (R_z(\\theta)\\otimes I ) && \n",
    "(R_x(\\theta)\\otimes I ) \\cg{X} = \\cg{X} (R_x(\\theta)\\otimes I )\n",
    "\\end{array}    \n",
    "$$\n",
    "</div>\n",
    "\n",
    "<div class=\"alert alert-block alert-info\">\n",
    "<p style=\"text-align: center;\"> <p style=\"text-align: left ;color: navy;\">  \n",
    "<b>Teorema:</b> \n",
    "Los operadores de Clifford pueden ser generados como composición del siguiente conjunto de operadores\n",
    "<br>\n",
    "<br>\n",
    "$$\n",
    "\\{ H, S , \\cg{X} \\}\n",
    "$$  \n",
    "</p></div>\n",
    "\n",
    "\n",
    "\n",
    "\n",
    "\n",
    "<div class=\"alert alert-block alert-warning\">\n",
    "<b>Resumen:</b>\n",
    "\n",
    "- Un circuito que expresa la descomposición de un operador de Clifford se denomina *circuito de Clifford*.\n",
    "    \n",
    "- La relevancia de los circuitos de Clifford es que son emulables eficientemente en un computador clásico. \n",
    "    \n",
    "</div>\n"
   ]
  },
  {
   "cell_type": "markdown",
   "id": "77f962b3",
   "metadata": {
    "slideshow": {
     "slide_type": "slide"
    }
   },
   "source": [
    "## Medidas de calidad en circuitos"
   ]
  },
  {
   "cell_type": "markdown",
   "id": "10c0bd54",
   "metadata": {},
   "source": [
    "A la hora de comparar algoritmos es deseable poder caracterizar los circuitos que intervienen.\n",
    "Consideremos el siguiente circuito. "
   ]
  },
  {
   "cell_type": "code",
   "execution_count": 1,
   "id": "63474baa",
   "metadata": {
    "run_control": {
     "marked": false
    },
    "slideshow": {
     "slide_type": "slide"
    }
   },
   "outputs": [
    {
     "data": {
      "image/png": "[encoded data removed]",
      "text/plain": [
       "<Figure size 568.197x385.28 with 1 Axes>"
      ]
     },
     "execution_count": 1,
     "metadata": {},
     "output_type": "execute_result"
    }
   ],
   "source": [
    "from qiskit import QuantumCircuit\n",
    "qc = QuantumCircuit(5,2)\n",
    "\n",
    "qc.h(0)\n",
    "qc.swap(3,1)\n",
    "qc.h(3)\n",
    "qc.cx(3,0)\n",
    "qc.h([0,3])\n",
    "qc.s([2])\n",
    "qc.cx(4,2)\n",
    "qc.measure(4,1)\n",
    "qc.cx(2,4)\n",
    "qc.cx(4,2)\n",
    "qc.t(1)\n",
    "qc.measure(1,0)\n",
    "qc.h(1)\n",
    "qc.draw('mpl')\n"
   ]
  },
  {
   "cell_type": "markdown",
   "id": "228fe94d",
   "metadata": {
    "slideshow": {
     "slide_type": "slide"
    }
   },
   "source": [
    "Alguna medidas cuantitativas  permiten comparar la calidad de distintos circuitos que efectúan la misma tarea. \n",
    "\n",
    "- **anchura** *(width)*: es el número total de registros cuánticos y clásicos  que necesita.   \n",
    "\n",
    " El uso de ancillas incrementa la anchura de un circuito, y por tanto, reduce su calidad en comparación con otro circuito que tenga menor anchura. \n"
   ]
  },
  {
   "cell_type": "code",
   "execution_count": 2,
   "id": "221386f7",
   "metadata": {},
   "outputs": [
    {
     "name": "stdout",
     "output_type": "stream",
     "text": [
      "anchura= 7\n"
     ]
    }
   ],
   "source": [
    "print('anchura=', qc.width())"
   ]
  },
  {
   "cell_type": "markdown",
   "id": "e9ab6f4e",
   "metadata": {
    "slideshow": {
     "slide_type": "fragment"
    }
   },
   "source": [
    "- **tamaño =  coste** *(size)*: el número de puertas  y aparatos de medida presentes en el mismo. \n"
   ]
  },
  {
   "cell_type": "code",
   "execution_count": 3,
   "id": "a1103083",
   "metadata": {},
   "outputs": [
    {
     "name": "stdout",
     "output_type": "stream",
     "text": [
      "tamaño= 14\n"
     ]
    }
   ],
   "source": [
    "print('tamaño=',qc.size())\n"
   ]
  },
  {
   "cell_type": "markdown",
   "id": "a8a73fce",
   "metadata": {},
   "source": [
    "- **complejidad**= es una medida de la *produndidad real* asociada al número de *puertas elementales* en las que se descompone un circuito. \n",
    "\n",
    " Es un número a reducir. Sin embargo no es una medida inambigua ya que depende de la librería utilizada. Por ejemplo, si ésta es la NCT, entonces el coste del [circuito](#Toffolidecomposition) es 1. Sin embargo, si la librería es la tomada por $ \\{ H, S, T, \\hbox{CNOT}\\} $\n",
    "entonces el coste sube hasta 7. Por ello, a la hora de comparar circuitos es importante definirlos en la misma base. \n"
   ]
  },
  {
   "cell_type": "code",
   "execution_count": 4,
   "id": "865a02df",
   "metadata": {
    "run_control": {
     "marked": false
    },
    "slideshow": {
     "slide_type": "slide"
    }
   },
   "outputs": [
    {
     "name": "stdout",
     "output_type": "stream",
     "text": [
      "complejidad= 16\n"
     ]
    },
    {
     "data": {
      "image/png": "[encoded data removed]",
      "text/plain": [
       "<Figure size 748.797x385.28 with 1 Axes>"
      ]
     },
     "execution_count": 4,
     "metadata": {},
     "output_type": "execute_result"
    }
   ],
   "source": [
    "qc_dec=qc.decompose()\n",
    "print('complejidad=', qc_dec.size())\n",
    "qc_dec.draw('mpl')"
   ]
  },
  {
   "cell_type": "markdown",
   "id": "af35ae62",
   "metadata": {
    "slideshow": {
     "slide_type": "fragment"
    }
   },
   "source": [
    "- **profundidad**= para evaluar la *profundidad*  es necesario agrupar todas las puertas  que se puedan realizar en paralelo en cortes temporales de duración $\\Delta$ (pulso).\n",
    " \n",
    " En particular puertas que actúen sobre registros diferentes no interferirán y se podrán paralelizar. \n",
    " Por ejemplo, el [circuito que descompone $U$](#CUdecomposition)   tiene un coste igual a 6, pero una profundidad igual a 5. \n",
    " \n",
    "\n"
   ]
  },
  {
   "cell_type": "code",
   "execution_count": 5,
   "id": "1fc3c191",
   "metadata": {},
   "outputs": [
    {
     "name": "stdout",
     "output_type": "stream",
     "text": [
      "profundidad= 5\n"
     ]
    }
   ],
   "source": [
    "print('profundidad=', qc.depth())"
   ]
  },
  {
   "cell_type": "markdown",
   "id": "89073fea",
   "metadata": {
    "slideshow": {
     "slide_type": "fragment"
    }
   },
   "source": [
    "- **factores unitarios**= un circuito es un operador unitario que puede estar formado por $r$ factores $U = U_1 U_2...U_r$. En el circuito cada factor se corresponde con un grupo de cúbits que están desconectados de los demás. Esto sólo afecta a las puertas lógicas, no a los aparatos de medida, que siempre son locales."
   ]
  },
  {
   "cell_type": "code",
   "execution_count": 6,
   "id": "058bae54",
   "metadata": {},
   "outputs": [
    {
     "name": "stdout",
     "output_type": "stream",
     "text": [
      "factores unitarios = 2\n"
     ]
    }
   ],
   "source": [
    "print('factores unitarios =', qc.num_unitary_factors())"
   ]
  },
  {
   "cell_type": "markdown",
   "id": "f59e42d1",
   "metadata": {},
   "source": [
    "No es evidente este resultado a priori, pero si permutamos los cúbits 2 y 3 el circuito muestra claramente esta factorización"
   ]
  },
  {
   "cell_type": "code",
   "execution_count": 7,
   "id": "9c9ab34f",
   "metadata": {},
   "outputs": [
    {
     "data": {
      "image/png": "[encoded data removed]",
      "text/plain": [
       "<Figure size 447.797x385.28 with 1 Axes>"
      ]
     },
     "execution_count": 7,
     "metadata": {},
     "output_type": "execute_result"
    }
   ],
   "source": [
    "from qiskit import QuantumCircuit\n",
    "qc = QuantumCircuit(5,2)\n",
    "\n",
    "\n",
    "qc.h(0)\n",
    "qc.swap(2,1)\n",
    "qc.h(2)\n",
    "qc.cx(2,0)\n",
    "qc.h([0,2])\n",
    "qc.s([3])\n",
    "qc.cx(4,3)\n",
    "qc.measure(4,1)\n",
    "qc.cx(3,4)\n",
    "qc.cx(4,3)\n",
    "qc.t(1)\n",
    "qc.measure(1,0)\n",
    "qc.h(1)\n",
    "qc.draw('mpl')\n"
   ]
  }
 ],
 "metadata": {
  "kernelspec": {
   "display_name": "Python 3 (ipykernel)",
   "language": "python",
   "name": "python3"
  },
  "language_info": {
   "codemirror_mode": {
    "name": "ipython",
    "version": 3
   },
   "file_extension": ".py",
   "mimetype": "text/x-python",
   "name": "python",
   "nbconvert_exporter": "python",
   "pygments_lexer": "ipython3",
   "version": "3.9.18"
  },
  "nbTranslate": {
   "displayLangs": [
    "*"
   ],
   "hotkey": "alt-t",
   "langInMainMenu": true,
   "sourceLang": "en",
   "targetLang": "fr",
   "useGoogleTranslate": true
  },
  "toc": {
   "base_numbering": 1,
   "nav_menu": {},
   "number_sections": true,
   "sideBar": true,
   "skip_h1_title": true,
   "title_cell": "Table of Contents",
   "title_sidebar": "Contents",
   "toc_cell": false,
   "toc_position": {
    "height": "calc(100% - 180px)",
    "left": "10px",
    "top": "150px",
    "width": "414.053px"
   },
   "toc_section_display": true,
   "toc_window_display": false
  },
  "varInspector": {
   "cols": {
    "lenName": 16,
    "lenType": 16,
    "lenVar": 40
   },
   "kernels_config": {
    "python": {
     "delete_cmd_postfix": "",
     "delete_cmd_prefix": "del ",
     "library": "var_list.py",
     "varRefreshCmd": "print(var_dic_list())"
    },
    "r": {
     "delete_cmd_postfix": ") ",
     "delete_cmd_prefix": "rm(",
     "library": "var_list.r",
     "varRefreshCmd": "cat(var_dic_list()) "
    }
   },
   "types_to_exclude": [
    "module",
    "function",
    "builtin_function_or_method",
    "instance",
    "_Feature"
   ],
   "window_display": false
  }
 },
 "nbformat": 4,
 "nbformat_minor": 5
}
