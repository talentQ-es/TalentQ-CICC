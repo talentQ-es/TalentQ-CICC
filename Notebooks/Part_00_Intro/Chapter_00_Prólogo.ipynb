{
 "cells": [
  {
   "cell_type": "markdown",
   "id": "f547ec66",
   "metadata": {},
   "source": [
    "# Prólogo e Instrucciones"
   ]
  },
  {
   "cell_type": "markdown",
   "id": "c28474a4",
   "metadata": {},
   "source": [
    "## Prólogo"
   ]
  },
  {
   "cell_type": "code",
   "execution_count": null,
   "id": "b2eeb6ce-1f0e-4f8d-9c0e-2c1fe8ec16aa",
   "metadata": {},
   "outputs": [],
   "source": []
  },
  {
   "cell_type": "markdown",
   "id": "3977ce79",
   "metadata": {},
   "source": [
    "Hola. Desde TalentQ hemos preparado este tutorial para tí. Antes que nada, queremos dejar claro que, aunque se trata de un curso introductorio básico, el objetivo no es divulgativo, sino operativo. Si lo que quieres es programar en un computador cuántico este manual de autoayuda pretende llevarte de la mano hacia ese objetivo,  aunque al principio haya que subir alguna cuesta empinada.  Estamos convencidos de que las concesiones iniciales a la vulgarización de las herramientas se acaban pagando. Por ello, haremos un esfuerzo por mantener el rigor sin ser unos plomos pedantes.  \n",
    "\n",
    "Hemos estructurado el curso a la vieja usanza: primero los mimbres. Si los números complejos te quedan muy lejos y los vectores te producen ardores, te recomendamos que emplees un tiempo en dominar el noble arte del *álgebra lineal* y blandirte a mandobles entre los *kets* y los *bras*.  Algo que, por otro lado, no es tan difícil: hay más notación que otra cosa y es,  como andar, cuestión de empezar y practicar. \n",
    "Tampoco hemos hecho un curso de Mecánica Cuántica por lo que, de ésta, se hará una introducción rigurosa pero escueta y operacional. En general, hemos reducido deliberadamente el texto a su mínima expresión. \n",
    "\n",
    "El curso está pensado para pasar a la acción lo antes posible, pero no demasiado *antes*. La idea es ir a la vez aprendiendo y programando. Antes se decía que uno no ha entiendo algo hasta que no consigue explicárselo a su abuela. Ahora te pediremos que le expliques cosas a tu ordenador. A veces te parecerá que  ¡está más sordo que tu abuela! y tendrás que repetir hasta que entienda.  Será necesario que tengas un mínimo nivel de programación en *python*, pero también podrás aprender viendo las soluciones (aunque no aprenderás tanto).\n",
    "\n",
    "En los lenguajes de programación cuántica de hoy en día, muchas funcionalidades están encapsuladas en funciones de alto nivel. Estas incorporan, pero también esconden, la conexión con las reglas primarias de la Mecánica Cuántica. Deliberadamente hemos querido obligarte a programar a bajo nivel. Por ejemplo el cálculo de valores esperados aquí lo haremos con los dientes ¡con brakets claro! :)\n",
    "\n",
    "\n",
    "El curso aun está y estará durante tiempo en construcción. Por el momento, intentaremos incluir código en dos lenguajes de programación: [Qibo 2.0](https://qibo.science/) y Qiskit 1.0. La idea es que, eventualmente puedas correr tus programas en el ordenador de Quantum Spain. \n",
    "\n",
    "\n",
    "Nada más. Esperamos que disfrutes. Cualquier cosa, nos escribes. Un saludo. Empezamos.\n",
    "\n",
    "*Javier* y *David*"
   ]
  },
  {
   "cell_type": "markdown",
   "id": "1a51f591",
   "metadata": {},
   "source": [
    "## Instrucciones"
   ]
  },
  {
   "cell_type": "markdown",
   "id": "5cfdd347",
   "metadata": {},
   "source": [
    "Las celdas de código no son interactivas. Pero siempre las puedes copiar y pegar. Otra posibilidad es ir al repositorio de Github\n"
   ]
  },
  {
   "cell_type": "markdown",
   "id": "53deadb2",
   "metadata": {},
   "source": [
    "###  Repositorio "
   ]
  },
  {
   "cell_type": "markdown",
   "id": "7d075e15",
   "metadata": {},
   "source": [
    "A lo largo de toda la web, en la parte superior derecha puedes encontrar enlace al repositorio de Github donde se alojan los notebooks originales (en la carpeta `Notebooks` del repositorio). \n",
    "\n",
    "Puedes bajarte el repositorio y ejecutar los notebook, bien usando [Jupyter Notebook/Lab en Anaconda](https://www.anaconda.com/), [Google Colab](https://colab.research.google.com/?hl=es), ..."
   ]
  },
  {
   "cell_type": "markdown",
   "id": "4ee364ca-43a7-41ba-acac-1b84c3c046e6",
   "metadata": {},
   "source": [
    "**requirements.txt**"
   ]
  },
  {
   "cell_type": "markdown",
   "id": "16adca19",
   "metadata": {},
   "source": [
    "Para que los notebook funcionen, hay que instalar una serie de paquetes. Los más importantes son\n",
    "- qiskit==1.0.1\n",
    "- qiskit-aer==0.13.3\n",
    "- qibo==0.2.4\n",
    "\n",
    "Puedes por ejemplo, crear un entorno de conda e instalar ahí los paquetes necesario usando nuestro `requirements.txt`"
   ]
  },
  {
   "cell_type": "code",
   "execution_count": 1,
   "id": "dd536ba1-01c8-4cde-9804-e5eaf2834370",
   "metadata": {
    "tags": [
     "skip_execution"
    ]
   },
   "outputs": [
    {
     "ename": "SyntaxError",
     "evalue": "invalid syntax (826863065.py, line 1)",
     "output_type": "error",
     "traceback": [
      "\u001b[0;36m  Cell \u001b[0;32mIn[1], line 1\u001b[0;36m\u001b[0m\n\u001b[0;31m    conda create -n \"TalentQ\" python=3.10.13\u001b[0m\n\u001b[0m          ^\u001b[0m\n\u001b[0;31mSyntaxError\u001b[0m\u001b[0;31m:\u001b[0m invalid syntax\n"
     ]
    }
   ],
   "source": [
    "conda create -n \"TalentQ\" python=3.10.13\n",
    "conda activate TalentQ\n",
    "pip install -r \"requirements.txt\""
   ]
  },
  {
   "cell_type": "markdown",
   "id": "c760d0ab-9915-48a1-bc53-458cd2136415",
   "metadata": {},
   "source": [
    "### La macro: `macrotQ.py`**"
   ]
  },
  {
   "cell_type": "markdown",
   "id": "c2cb352e",
   "metadata": {},
   "source": [
    "A lo largo del curso se proponen ejercicios que implican generar funciones que más tarde se utilizarán. Hemos puesto muchas de estas funciones en este paquete que luego se invoca, para una función_concreta, escribiendo tQ.funcion_concreta. Para ello es necesario importarla y la primera celda de cada capítulo es las siguiente  "
   ]
  },
  {
   "cell_type": "code",
   "execution_count": 5,
   "id": "0e9516a4",
   "metadata": {},
   "outputs": [],
   "source": [
    "%run ../macro_tQ.py\n",
    "import sys\n",
    "sys.path.append('../')\n",
    "import macro_tQ as tQ"
   ]
  }
 ],
 "metadata": {
  "celltoolbar": "Tags",
  "kernelspec": {
   "display_name": "Python 3 (ipykernel)",
   "language": "python",
   "name": "python3"
  },
  "language_info": {
   "codemirror_mode": {
    "name": "ipython",
    "version": 3
   },
   "file_extension": ".py",
   "mimetype": "text/x-python",
   "name": "python",
   "nbconvert_exporter": "python",
   "pygments_lexer": "ipython3",
   "version": "3.9.19"
  },
  "toc": {
   "base_numbering": 1,
   "nav_menu": {},
   "number_sections": true,
   "sideBar": true,
   "skip_h1_title": false,
   "title_cell": "Table of Contents",
   "title_sidebar": "Contents",
   "toc_cell": false,
   "toc_position": {},
   "toc_section_display": true,
   "toc_window_display": false
  }
 },
 "nbformat": 4,
 "nbformat_minor": 5
}
